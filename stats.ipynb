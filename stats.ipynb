{
 "cells": [
  {
   "cell_type": "code",
   "execution_count": 3,
   "id": "074ea527",
   "metadata": {},
   "outputs": [],
   "source": [
    "import numpy.random as np\n",
    "import seaborn as sns\n",
    "import matplotlib.pyplot as plt\n",
    "population_size = 1000000\n",
    "population = np.rand(1000000)"
   ]
  },
  {
   "cell_type": "code",
   "execution_count": 7,
   "id": "b79434da",
   "metadata": {},
   "outputs": [],
   "source": [
    "number_of_samples = 10000\n",
    "sample_means = np.rand(number_of_samples)\n",
    "sample_size = 1"
   ]
  },
  {
   "cell_type": "code",
   "execution_count": 11,
   "id": "3cb25b8b",
   "metadata": {},
   "outputs": [],
   "source": [
    "c = np.rand(number_of_samples)\n",
    "for i in range(0,number_of_samples):\n",
    "    c = np.randint(1,population_size,sample_size)    \n",
    "    sample_means[i] = population[c].mean()"
   ]
  },
  {
   "cell_type": "code",
   "execution_count": null,
   "id": "e5655af7",
   "metadata": {},
   "outputs": [],
   "source": []
  }
 ],
 "metadata": {
  "kernelspec": {
   "display_name": "Python 3 (ipykernel)",
   "language": "python",
   "name": "python3"
  },
  "language_info": {
   "codemirror_mode": {
    "name": "ipython",
    "version": 3
   },
   "file_extension": ".py",
   "mimetype": "text/x-python",
   "name": "python",
   "nbconvert_exporter": "python",
   "pygments_lexer": "ipython3",
   "version": "3.9.12"
  }
 },
 "nbformat": 4,
 "nbformat_minor": 5
}
