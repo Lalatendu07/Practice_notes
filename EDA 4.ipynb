{
 "cells": [
  {
   "cell_type": "code",
   "execution_count": 5,
   "id": "c81a600f",
   "metadata": {},
   "outputs": [],
   "source": [
    "import pandas as pd\n",
    "import numpy as np\n",
    "import seaborn as sns\n",
    "import matplotlib.pyplot as plt\n",
    "import warnings \n",
    "\n",
    "%matplotlib inline\n",
    "warnings.filterwarnings('ignore')"
   ]
  },
  {
   "cell_type": "code",
   "execution_count": 6,
   "id": "a9d0aec1",
   "metadata": {},
   "outputs": [],
   "source": [
    "df=pd.read_csv('google_cleaned.csv')"
   ]
  },
  {
   "cell_type": "code",
   "execution_count": 4,
   "id": "75924500",
   "metadata": {},
   "outputs": [
    {
     "data": {
      "text/plain": [
       "App                  0\n",
       "Category             0\n",
       "Rating            1474\n",
       "Reviews              0\n",
       "Size              1695\n",
       "Installs             0\n",
       "Type                 1\n",
       "Price                0\n",
       "Content Rating       0\n",
       "Genres               0\n",
       "Last Updated         0\n",
       "Current Ver          8\n",
       "Android Ver          2\n",
       "Day                  0\n",
       "Month                0\n",
       "Year                 0\n",
       "dtype: int64"
      ]
     },
     "execution_count": 4,
     "metadata": {},
     "output_type": "execute_result"
    }
   ],
   "source": [
    "df.isnull().sum()"
   ]
  },
  {
   "cell_type": "code",
   "execution_count": 5,
   "id": "2f1f617b",
   "metadata": {},
   "outputs": [
    {
     "data": {
      "text/plain": [
       "3180"
      ]
     },
     "execution_count": 5,
     "metadata": {},
     "output_type": "execute_result"
    }
   ],
   "source": [
    "df.isnull().sum().sum()"
   ]
  },
  {
   "cell_type": "code",
   "execution_count": 6,
   "id": "786b037e",
   "metadata": {},
   "outputs": [
    {
     "data": {
      "text/plain": [
       "Size              1695\n",
       "Rating            1474\n",
       "Current Ver          8\n",
       "Android Ver          2\n",
       "Type                 1\n",
       "App                  0\n",
       "Category             0\n",
       "Reviews              0\n",
       "Installs             0\n",
       "Price                0\n",
       "Content Rating       0\n",
       "Genres               0\n",
       "Last Updated         0\n",
       "Day                  0\n",
       "Month                0\n",
       "Year                 0\n",
       "dtype: int64"
      ]
     },
     "execution_count": 6,
     "metadata": {},
     "output_type": "execute_result"
    }
   ],
   "source": [
    "df.isnull().sum().sort_values(ascending=False)"
   ]
  },
  {
   "cell_type": "code",
   "execution_count": 7,
   "id": "1ab98dc7",
   "metadata": {},
   "outputs": [
    {
     "data": {
      "text/plain": [
       "(10840, 16)"
      ]
     },
     "execution_count": 7,
     "metadata": {},
     "output_type": "execute_result"
    }
   ],
   "source": [
    "df.shape"
   ]
  },
  {
   "cell_type": "code",
   "execution_count": 9,
   "id": "9e58d32c",
   "metadata": {},
   "outputs": [
    {
     "data": {
      "text/plain": [
       "483"
      ]
     },
     "execution_count": 9,
     "metadata": {},
     "output_type": "execute_result"
    }
   ],
   "source": [
    "df.duplicated().sum()"
   ]
  },
  {
   "cell_type": "code",
   "execution_count": 10,
   "id": "5cde2e51",
   "metadata": {},
   "outputs": [],
   "source": [
    "df=df.drop_duplicates()"
   ]
  },
  {
   "cell_type": "code",
   "execution_count": 12,
   "id": "98567dc0",
   "metadata": {},
   "outputs": [
    {
     "data": {
      "text/plain": [
       "(10357, 16)"
      ]
     },
     "execution_count": 12,
     "metadata": {},
     "output_type": "execute_result"
    }
   ],
   "source": [
    "df.shape"
   ]
  },
  {
   "cell_type": "code",
   "execution_count": 16,
   "id": "e1a11030",
   "metadata": {},
   "outputs": [
    {
     "data": {
      "image/png": "[encoded data removed]",
      "text/plain": [
       "<Figure size 1152x576 with 1 Axes>"
      ]
     },
     "metadata": {
      "needs_background": "light"
     },
     "output_type": "display_data"
    }
   ],
   "source": [
    "null_counts=df.isna().sum().sort_values(ascending=False)/len(df)\n",
    "plt.figure(figsize=(16,8))\n",
    "plt.xticks(np.arange(len(null_counts))+0.5,null_counts.index,rotation='vertical')\n",
    "plt.ylabel('Fraction of rows with missing data')\n",
    "plt.bar(np.arange(len(null_counts)),null_counts)\n",
    "plt.show()\n"
   ]
  },
  {
   "cell_type": "code",
   "execution_count": 17,
   "id": "638c75c8",
   "metadata": {},
   "outputs": [],
   "source": [
    "df_copy=df.copy()"
   ]
  },
  {
   "cell_type": "code",
   "execution_count": 18,
   "id": "4aa77ea3",
   "metadata": {},
   "outputs": [],
   "source": [
    "cols=[var for var in df_copy.columns if df_copy[var].isnull().mean()*100]"
   ]
  },
  {
   "cell_type": "code",
   "execution_count": 19,
   "id": "9f46004c",
   "metadata": {},
   "outputs": [
    {
     "data": {
      "text/plain": [
       "['Rating', 'Size', 'Type', 'Current Ver', 'Android Ver']"
      ]
     },
     "execution_count": 19,
     "metadata": {},
     "output_type": "execute_result"
    }
   ],
   "source": [
    "cols"
   ]
  },
  {
   "cell_type": "code",
   "execution_count": 21,
   "id": "081555a4",
   "metadata": {},
   "outputs": [
    {
     "data": {
      "text/plain": [
       "14.733996330983876"
      ]
     },
     "execution_count": 21,
     "metadata": {},
     "output_type": "execute_result"
    }
   ],
   "source": [
    "df_copy['Size'].isnull().mean()*100"
   ]
  },
  {
   "cell_type": "code",
   "execution_count": 22,
   "id": "a091991c",
   "metadata": {},
   "outputs": [
    {
     "data": {
      "text/plain": [
       "0.0"
      ]
     },
     "execution_count": 22,
     "metadata": {},
     "output_type": "execute_result"
    }
   ],
   "source": [
    "df_copy['Installs'].isnull().mean()*100"
   ]
  },
  {
   "cell_type": "code",
   "execution_count": 20,
   "id": "bbac7a93",
   "metadata": {},
   "outputs": [
    {
     "name": "stdout",
     "output_type": "stream",
     "text": [
      "App\n",
      "Category\n",
      "Rating\n",
      "Reviews\n",
      "Size\n",
      "Installs\n",
      "Type\n",
      "Price\n",
      "Content Rating\n",
      "Genres\n",
      "Last Updated\n",
      "Current Ver\n",
      "Android Ver\n",
      "Day\n",
      "Month\n",
      "Year\n"
     ]
    }
   ],
   "source": [
    "for var in df_copy.columns:\n",
    "    print(var)\n",
    "    df_copy[var].isnull.mean()*100"
   ]
  },
  {
   "cell_type": "code",
   "execution_count": 26,
   "id": "d99b6d2f",
   "metadata": {},
   "outputs": [],
   "source": [
    "drop_df=df_copy[cols].dropna()"
   ]
  },
  {
   "cell_type": "code",
   "execution_count": 29,
   "id": "adb9a82b",
   "metadata": {},
   "outputs": [
    {
     "data": {
      "text/plain": [
       "(10357, 16)"
      ]
     },
     "execution_count": 29,
     "metadata": {},
     "output_type": "execute_result"
    }
   ],
   "source": [
    "df_copy.shape"
   ]
  },
  {
   "cell_type": "code",
   "execution_count": 27,
   "id": "68fd9191",
   "metadata": {},
   "outputs": [
    {
     "data": {
      "text/plain": [
       "(7418, 5)"
      ]
     },
     "execution_count": 27,
     "metadata": {},
     "output_type": "execute_result"
    }
   ],
   "source": [
    "drop_df.shape"
   ]
  },
  {
   "cell_type": "code",
   "execution_count": 33,
   "id": "33cb427b",
   "metadata": {},
   "outputs": [
    {
     "data": {
      "text/plain": [
       "<AxesSubplot:xlabel='Rating', ylabel='Density'>"
      ]
     },
     "execution_count": 33,
     "metadata": {},
     "output_type": "execute_result"
    },
    {
     "data": {
      "image/png": "[encoded data removed]",
      "text/plain": [
       "<Figure size 432x288 with 1 Axes>"
      ]
     },
     "metadata": {
      "needs_background": "light"
     },
     "output_type": "display_data"
    }
   ],
   "source": [
    "sns.distplot(df_copy['Rating'])"
   ]
  },
  {
   "cell_type": "code",
   "execution_count": 34,
   "id": "05ca1150",
   "metadata": {},
   "outputs": [
    {
     "data": {
      "text/plain": [
       "<AxesSubplot:xlabel='Rating', ylabel='Density'>"
      ]
     },
     "execution_count": 34,
     "metadata": {},
     "output_type": "execute_result"
    },
    {
     "data": {
      "image/png": "[encoded data removed]",
      "text/plain": [
       "<Figure size 432x288 with 1 Axes>"
      ]
     },
     "metadata": {
      "needs_background": "light"
     },
     "output_type": "display_data"
    }
   ],
   "source": [
    "sns.distplot(drop_df['Rating'])"
   ]
  },
  {
   "cell_type": "markdown",
   "id": "9c539693",
   "metadata": {},
   "source": [
    "# missing value with mean, median"
   ]
  },
  {
   "cell_type": "code",
   "execution_count": 48,
   "id": "7b1d3ba3",
   "metadata": {},
   "outputs": [],
   "source": [
    "df_copy_me_mo=df.copy()"
   ]
  },
  {
   "cell_type": "code",
   "execution_count": 49,
   "id": "917c44e5",
   "metadata": {},
   "outputs": [
    {
     "data": {
      "text/plain": [
       "<seaborn.axisgrid.FacetGrid at 0x194ec87c5e0>"
      ]
     },
     "execution_count": 49,
     "metadata": {},
     "output_type": "execute_result"
    },
    {
     "data": {
      "image/png": "[encoded data removed]",
      "text/plain": [
       "<Figure size 360x360 with 1 Axes>"
      ]
     },
     "metadata": {
      "needs_background": "light"
     },
     "output_type": "display_data"
    }
   ],
   "source": [
    "sns.displot(df['Size'])"
   ]
  },
  {
   "cell_type": "code",
   "execution_count": 50,
   "id": "d5fc2699",
   "metadata": {},
   "outputs": [
    {
     "data": {
      "text/plain": [
       "0"
      ]
     },
     "execution_count": 50,
     "metadata": {},
     "output_type": "execute_result"
    }
   ],
   "source": [
    "df_copy_me_mo['Size'].fillna(df_copy_me_mo['Size'].mean()).isna().sum()"
   ]
  },
  {
   "cell_type": "code",
   "execution_count": 51,
   "id": "054b9793",
   "metadata": {},
   "outputs": [
    {
     "data": {
      "text/plain": [
       "<seaborn.axisgrid.FacetGrid at 0x194f2044940>"
      ]
     },
     "execution_count": 51,
     "metadata": {},
     "output_type": "execute_result"
    },
    {
     "data": {
      "image/png": "[encoded data removed]",
      "text/plain": [
       "<Figure size 360x360 with 1 Axes>"
      ]
     },
     "metadata": {
      "needs_background": "light"
     },
     "output_type": "display_data"
    }
   ],
   "source": [
    "sns.displot(df_copy_me_mo['Size'].fillna(df_copy_me_mo['Size'].mean()))"
   ]
  },
  {
   "cell_type": "code",
   "execution_count": 52,
   "id": "2208f180",
   "metadata": {},
   "outputs": [
    {
     "data": {
      "text/plain": [
       "0"
      ]
     },
     "execution_count": 52,
     "metadata": {},
     "output_type": "execute_result"
    }
   ],
   "source": [
    "df_copy_me_mo['Size'].fillna(df_copy_me_mo['Size'].median()).isna().sum()"
   ]
  },
  {
   "cell_type": "code",
   "execution_count": 53,
   "id": "586b7f12",
   "metadata": {},
   "outputs": [
    {
     "data": {
      "text/plain": [
       "<AxesSubplot:xlabel='Size', ylabel='Density'>"
      ]
     },
     "execution_count": 53,
     "metadata": {},
     "output_type": "execute_result"
    },
    {
     "data": {
      "image/png": "[encoded data removed]",
      "text/plain": [
       "<Figure size 432x288 with 1 Axes>"
      ]
     },
     "metadata": {
      "needs_background": "light"
     },
     "output_type": "display_data"
    }
   ],
   "source": [
    "sns.distplot(df_copy_me_mo['Size'].fillna(df_copy_me_mo['Size'].median()))"
   ]
  },
  {
   "cell_type": "markdown",
   "id": "9eab1109",
   "metadata": {},
   "source": [
    "# Random sample imputation"
   ]
  },
  {
   "cell_type": "code",
   "execution_count": 7,
   "id": "6d590918",
   "metadata": {},
   "outputs": [],
   "source": [
    "df_random=df.copy()"
   ]
  },
  {
   "cell_type": "code",
   "execution_count": 8,
   "id": "c25c5950",
   "metadata": {},
   "outputs": [
    {
     "data": {
      "text/plain": [
       "1695"
      ]
     },
     "execution_count": 8,
     "metadata": {},
     "output_type": "execute_result"
    }
   ],
   "source": [
    "df_random['Size'].isnull().sum()"
   ]
  },
  {
   "cell_type": "code",
   "execution_count": 9,
   "id": "10745db9",
   "metadata": {},
   "outputs": [],
   "source": [
    "random_sample=df_random['Size'].dropna().sample(df_random['Size'].isnull().sum())"
   ]
  },
  {
   "cell_type": "code",
   "execution_count": 10,
   "id": "7cbb8493",
   "metadata": {},
   "outputs": [
    {
     "data": {
      "text/plain": [
       "4290     14.0\n",
       "10306    26.0\n",
       "9683     73.0\n",
       "10164     2.4\n",
       "8963     41.0\n",
       "         ... \n",
       "5580      1.6\n",
       "5942      3.7\n",
       "176       4.0\n",
       "6042      7.3\n",
       "6228     15.0\n",
       "Name: Size, Length: 1695, dtype: float64"
      ]
     },
     "execution_count": 10,
     "metadata": {},
     "output_type": "execute_result"
    }
   ],
   "source": [
    "random_sample"
   ]
  },
  {
   "cell_type": "code",
   "execution_count": 11,
   "id": "d7519f2d",
   "metadata": {},
   "outputs": [],
   "source": [
    "random_sample.index=df_random[df_random['Size'].isnull()].index"
   ]
  },
  {
   "cell_type": "code",
   "execution_count": 12,
   "id": "d9a6fab3",
   "metadata": {},
   "outputs": [],
   "source": [
    "df_random.loc[df_random['Size'].isnull(),'Size']=random_sample"
   ]
  },
  {
   "cell_type": "code",
   "execution_count": null,
   "id": "b2823ebf",
   "metadata": {},
   "outputs": [],
   "source": []
  }
 ],
 "metadata": {
  "kernelspec": {
   "display_name": "Python 3 (ipykernel)",
   "language": "python",
   "name": "python3"
  },
  "language_info": {
   "codemirror_mode": {
    "name": "ipython",
    "version": 3
   },
   "file_extension": ".py",
   "mimetype": "text/x-python",
   "name": "python",
   "nbconvert_exporter": "python",
   "pygments_lexer": "ipython3",
   "version": "3.9.12"
  }
 },
 "nbformat": 4,
 "nbformat_minor": 5
}
