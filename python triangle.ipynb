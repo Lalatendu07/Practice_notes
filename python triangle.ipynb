{
 "cells": [
  {
   "cell_type": "code",
   "execution_count": 19,
   "id": "f96fc475",
   "metadata": {},
   "outputs": [],
   "source": [
    "def lala(a,b):\n",
    "    j=a*b\n",
    "    return j"
   ]
  },
  {
   "cell_type": "code",
   "execution_count": 21,
   "id": "334126f0",
   "metadata": {},
   "outputs": [
    {
     "data": {
      "text/plain": [
       "276"
      ]
     },
     "execution_count": 21,
     "metadata": {},
     "output_type": "execute_result"
    }
   ],
   "source": [
    "lala(12,23)"
   ]
  },
  {
   "cell_type": "code",
   "execution_count": 5,
   "id": "d3941ac2",
   "metadata": {},
   "outputs": [
    {
     "name": "stdout",
     "output_type": "stream",
     "text": [
      "enter no of stars11\n",
      "* * * * * * * * * * * \n",
      "  * * * * * * * * * \n",
      "    * * * * * * * \n",
      "      * * * * * \n",
      "        * * * \n",
      "          * \n",
      "            \n",
      "              \n",
      "                \n",
      "                  \n",
      "                    \n"
     ]
    }
   ],
   "source": [
    "n=int(input('enter no of stars'))\n",
    "float(n)\n",
    "for i in range(n):\n",
    "    for j in range(i):\n",
    "        print(' ',end=' ')\n",
    "    for j in range(i,n-i):\n",
    "        print('*',end=' ')\n",
    "    print()"
   ]
  },
  {
   "cell_type": "code",
   "execution_count": 6,
   "id": "ed4b5771",
   "metadata": {},
   "outputs": [
    {
     "name": "stdout",
     "output_type": "stream",
     "text": [
      "enter no. of rows9\n",
      "                  * \n",
      "                * * * \n",
      "              * * * * * \n",
      "            * * * * * * * \n",
      "          * * * * * * * * * \n",
      "        * * * * * * * * * * * \n",
      "      * * * * * * * * * * * * * \n",
      "    * * * * * * * * * * * * * * * \n",
      "  * * * * * * * * * * * * * * * * * \n"
     ]
    }
   ],
   "source": [
    "n=int(input('enter no. of rows'))\n",
    "for i in range(n):\n",
    "    for j in range(i-n,n-i):\n",
    "        print(' ',end='')\n",
    "    for j in range(i+1):\n",
    "        print(\"*\",end=' ')\n",
    "    for j in range(i):\n",
    "        print('*',end=' ')\n",
    "    print()\n"
   ]
  },
  {
   "cell_type": "code",
   "execution_count": 93,
   "id": "19f3c826",
   "metadata": {},
   "outputs": [
    {
     "data": {
      "text/plain": [
       "[-4, -3, -2, -1, 0, 1, 2, 3]"
      ]
     },
     "execution_count": 93,
     "metadata": {},
     "output_type": "execute_result"
    }
   ],
   "source": [
    "list(range(-4,4))"
   ]
  },
  {
   "cell_type": "code",
   "execution_count": 93,
   "id": "a4cbba43",
   "metadata": {},
   "outputs": [
    {
     "data": {
      "text/plain": [
       "[-4, -3, -2, -1, 0, 1, 2, 3]"
      ]
     },
     "execution_count": 93,
     "metadata": {},
     "output_type": "execute_result"
    }
   ],
   "source": [
    "list(range(-4,4))"
   ]
  },
  {
   "cell_type": "code",
   "execution_count": 10,
   "id": "36c7bd93",
   "metadata": {},
   "outputs": [],
   "source": [
    "l=[1,2,3,4]"
   ]
  },
  {
   "cell_type": "code",
   "execution_count": 11,
   "id": "d27d27cc",
   "metadata": {},
   "outputs": [
    {
     "data": {
      "text/plain": [
       "list"
      ]
     },
     "execution_count": 11,
     "metadata": {},
     "output_type": "execute_result"
    }
   ],
   "source": [
    "type(l)"
   ]
  },
  {
   "cell_type": "code",
   "execution_count": 18,
   "id": "1d109ce3",
   "metadata": {},
   "outputs": [
    {
     "data": {
      "text/plain": [
       "'[1, 2, 3, 4]'"
      ]
     },
     "execution_count": 18,
     "metadata": {},
     "output_type": "execute_result"
    }
   ],
   "source": [
    "str(l)"
   ]
  },
  {
   "cell_type": "code",
   "execution_count": 7,
   "id": "9fbafe64",
   "metadata": {},
   "outputs": [
    {
     "name": "stdout",
     "output_type": "stream",
     "text": [
      "92\n"
     ]
    }
   ],
   "source": [
    "n=int(input())"
   ]
  },
  {
   "cell_type": "code",
   "execution_count": 8,
   "id": "5d77af80",
   "metadata": {},
   "outputs": [
    {
     "data": {
      "text/plain": [
       "92"
      ]
     },
     "execution_count": 8,
     "metadata": {},
     "output_type": "execute_result"
    }
   ],
   "source": [
    "n"
   ]
  },
  {
   "cell_type": "code",
   "execution_count": 9,
   "id": "c98caed4",
   "metadata": {},
   "outputs": [
    {
     "data": {
      "text/plain": [
       "92.0"
      ]
     },
     "execution_count": 9,
     "metadata": {},
     "output_type": "execute_result"
    }
   ],
   "source": [
    "float(n)"
   ]
  },
  {
   "cell_type": "code",
   "execution_count": null,
   "id": "ff196998",
   "metadata": {},
   "outputs": [],
   "source": []
  }
 ],
 "metadata": {
  "kernelspec": {
   "display_name": "Python 3 (ipykernel)",
   "language": "python",
   "name": "python3"
  },
  "language_info": {
   "codemirror_mode": {
    "name": "ipython",
    "version": 3
   },
   "file_extension": ".py",
   "mimetype": "text/x-python",
   "name": "python",
   "nbconvert_exporter": "python",
   "pygments_lexer": "ipython3",
   "version": "3.9.12"
  }
 },
 "nbformat": 4,
 "nbformat_minor": 5
}
