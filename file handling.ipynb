{
 "cells": [
  {
   "cell_type": "code",
   "execution_count": 9,
   "id": "9d492bf2",
   "metadata": {},
   "outputs": [],
   "source": [
    "def mul(n):\n",
    "    a=1\n",
    "    b=1\n",
    "    for i in range(n):\n",
    "        a,b=b,a+b\n",
    "        \n",
    "        print(a)"
   ]
  },
  {
   "cell_type": "code",
   "execution_count": 10,
   "id": "7da9dee5",
   "metadata": {},
   "outputs": [
    {
     "name": "stdout",
     "output_type": "stream",
     "text": [
      "1\n",
      "2\n",
      "3\n",
      "5\n",
      "8\n",
      "13\n",
      "21\n"
     ]
    }
   ],
   "source": [
    "mul(7)"
   ]
  },
  {
   "cell_type": "code",
   "execution_count": 11,
   "id": "a63c8890",
   "metadata": {},
   "outputs": [],
   "source": [
    "l=(1,2,3,5,6,7,8)"
   ]
  },
  {
   "cell_type": "code",
   "execution_count": 15,
   "id": "1db1e285",
   "metadata": {},
   "outputs": [],
   "source": [
    "b=iter(l)"
   ]
  },
  {
   "cell_type": "code",
   "execution_count": 16,
   "id": "f32f17d7",
   "metadata": {},
   "outputs": [
    {
     "data": {
      "text/plain": [
       "1"
      ]
     },
     "execution_count": 16,
     "metadata": {},
     "output_type": "execute_result"
    }
   ],
   "source": [
    "next(b)"
   ]
  },
  {
   "cell_type": "code",
   "execution_count": 17,
   "id": "cd3534a3",
   "metadata": {},
   "outputs": [
    {
     "data": {
      "text/plain": [
       "2"
      ]
     },
     "execution_count": 17,
     "metadata": {},
     "output_type": "execute_result"
    }
   ],
   "source": [
    "next(b)"
   ]
  },
  {
   "cell_type": "code",
   "execution_count": 18,
   "id": "0ad4264e",
   "metadata": {},
   "outputs": [
    {
     "data": {
      "text/plain": [
       "3"
      ]
     },
     "execution_count": 18,
     "metadata": {},
     "output_type": "execute_result"
    }
   ],
   "source": [
    "next(b)"
   ]
  },
  {
   "cell_type": "code",
   "execution_count": 19,
   "id": "1f8e73e2",
   "metadata": {},
   "outputs": [
    {
     "data": {
      "text/plain": [
       "5"
      ]
     },
     "execution_count": 19,
     "metadata": {},
     "output_type": "execute_result"
    }
   ],
   "source": [
    "next(b)"
   ]
  },
  {
   "cell_type": "code",
   "execution_count": 20,
   "id": "1f392feb",
   "metadata": {},
   "outputs": [
    {
     "data": {
      "text/plain": [
       "6"
      ]
     },
     "execution_count": 20,
     "metadata": {},
     "output_type": "execute_result"
    }
   ],
   "source": [
    "next(b)"
   ]
  },
  {
   "cell_type": "code",
   "execution_count": 21,
   "id": "b970d444",
   "metadata": {},
   "outputs": [
    {
     "data": {
      "text/plain": [
       "7"
      ]
     },
     "execution_count": 21,
     "metadata": {},
     "output_type": "execute_result"
    }
   ],
   "source": [
    "next(b)"
   ]
  },
  {
   "cell_type": "code",
   "execution_count": 22,
   "id": "ccaac78c",
   "metadata": {},
   "outputs": [
    {
     "data": {
      "text/plain": [
       "8"
      ]
     },
     "execution_count": 22,
     "metadata": {},
     "output_type": "execute_result"
    }
   ],
   "source": [
    "next(b)"
   ]
  },
  {
   "cell_type": "code",
   "execution_count": 23,
   "id": "476e51f3",
   "metadata": {},
   "outputs": [
    {
     "ename": "StopIteration",
     "evalue": "",
     "output_type": "error",
     "traceback": [
      "\u001b[1;31m---------------------------------------------------------------------------\u001b[0m",
      "\u001b[1;31mStopIteration\u001b[0m                             Traceback (most recent call last)",
      "Input \u001b[1;32mIn [23]\u001b[0m, in \u001b[0;36m<cell line: 1>\u001b[1;34m()\u001b[0m\n\u001b[1;32m----> 1\u001b[0m \u001b[38;5;28;43mnext\u001b[39;49m\u001b[43m(\u001b[49m\u001b[43mb\u001b[49m\u001b[43m)\u001b[49m\n",
      "\u001b[1;31mStopIteration\u001b[0m: "
     ]
    }
   ],
   "source": [
    "next(b)"
   ]
  },
  {
   "cell_type": "code",
   "execution_count": 24,
   "id": "84db2ec6",
   "metadata": {},
   "outputs": [],
   "source": [
    "n=('lala','jdjd','iie')"
   ]
  },
  {
   "cell_type": "code",
   "execution_count": 25,
   "id": "a005353a",
   "metadata": {},
   "outputs": [],
   "source": [
    "v=iter(n)"
   ]
  },
  {
   "cell_type": "code",
   "execution_count": 26,
   "id": "3e025285",
   "metadata": {},
   "outputs": [
    {
     "data": {
      "text/plain": [
       "'lala'"
      ]
     },
     "execution_count": 26,
     "metadata": {},
     "output_type": "execute_result"
    }
   ],
   "source": [
    "next(v)"
   ]
  },
  {
   "cell_type": "code",
   "execution_count": 27,
   "id": "0f5c43ca",
   "metadata": {},
   "outputs": [
    {
     "data": {
      "text/plain": [
       "'jdjd'"
      ]
     },
     "execution_count": 27,
     "metadata": {},
     "output_type": "execute_result"
    }
   ],
   "source": [
    "next(v)"
   ]
  },
  {
   "cell_type": "code",
   "execution_count": 28,
   "id": "d98b4324",
   "metadata": {},
   "outputs": [
    {
     "data": {
      "text/plain": [
       "'iie'"
      ]
     },
     "execution_count": 28,
     "metadata": {},
     "output_type": "execute_result"
    }
   ],
   "source": [
    "next(v)"
   ]
  },
  {
   "cell_type": "code",
   "execution_count": 29,
   "id": "280381b6",
   "metadata": {},
   "outputs": [],
   "source": [
    "x='nfujjsn'"
   ]
  },
  {
   "cell_type": "code",
   "execution_count": 30,
   "id": "fecd06ca",
   "metadata": {},
   "outputs": [],
   "source": [
    "m=iter(x)"
   ]
  },
  {
   "cell_type": "code",
   "execution_count": 31,
   "id": "4d29d0d9",
   "metadata": {},
   "outputs": [
    {
     "data": {
      "text/plain": [
       "'n'"
      ]
     },
     "execution_count": 31,
     "metadata": {},
     "output_type": "execute_result"
    }
   ],
   "source": [
    "next(m)"
   ]
  },
  {
   "cell_type": "code",
   "execution_count": 32,
   "id": "a7906a28",
   "metadata": {},
   "outputs": [
    {
     "data": {
      "text/plain": [
       "'f'"
      ]
     },
     "execution_count": 32,
     "metadata": {},
     "output_type": "execute_result"
    }
   ],
   "source": [
    "next(m)"
   ]
  },
  {
   "cell_type": "code",
   "execution_count": 33,
   "id": "6ed4f868",
   "metadata": {},
   "outputs": [
    {
     "data": {
      "text/plain": [
       "'u'"
      ]
     },
     "execution_count": 33,
     "metadata": {},
     "output_type": "execute_result"
    }
   ],
   "source": [
    "next(m)"
   ]
  },
  {
   "cell_type": "code",
   "execution_count": 34,
   "id": "aa5b13c5",
   "metadata": {},
   "outputs": [
    {
     "data": {
      "text/plain": [
       "'j'"
      ]
     },
     "execution_count": 34,
     "metadata": {},
     "output_type": "execute_result"
    }
   ],
   "source": [
    "next(m)"
   ]
  },
  {
   "cell_type": "code",
   "execution_count": 35,
   "id": "9c4984a7",
   "metadata": {},
   "outputs": [
    {
     "data": {
      "text/plain": [
       "'j'"
      ]
     },
     "execution_count": 35,
     "metadata": {},
     "output_type": "execute_result"
    }
   ],
   "source": [
    "next(m)"
   ]
  },
  {
   "cell_type": "code",
   "execution_count": 36,
   "id": "bd5eaf35",
   "metadata": {},
   "outputs": [
    {
     "data": {
      "text/plain": [
       "'s'"
      ]
     },
     "execution_count": 36,
     "metadata": {},
     "output_type": "execute_result"
    }
   ],
   "source": [
    "next(m)"
   ]
  },
  {
   "cell_type": "code",
   "execution_count": 37,
   "id": "3f54766b",
   "metadata": {},
   "outputs": [
    {
     "data": {
      "text/plain": [
       "'n'"
      ]
     },
     "execution_count": 37,
     "metadata": {},
     "output_type": "execute_result"
    }
   ],
   "source": [
    "next(m)"
   ]
  },
  {
   "cell_type": "code",
   "execution_count": 38,
   "id": "58921360",
   "metadata": {},
   "outputs": [
    {
     "ename": "StopIteration",
     "evalue": "",
     "output_type": "error",
     "traceback": [
      "\u001b[1;31m---------------------------------------------------------------------------\u001b[0m",
      "\u001b[1;31mStopIteration\u001b[0m                             Traceback (most recent call last)",
      "Input \u001b[1;32mIn [38]\u001b[0m, in \u001b[0;36m<cell line: 1>\u001b[1;34m()\u001b[0m\n\u001b[1;32m----> 1\u001b[0m \u001b[38;5;28;43mnext\u001b[39;49m\u001b[43m(\u001b[49m\u001b[43mm\u001b[49m\u001b[43m)\u001b[49m\n",
      "\u001b[1;31mStopIteration\u001b[0m: "
     ]
    }
   ],
   "source": [
    "next(m)"
   ]
  },
  {
   "cell_type": "code",
   "execution_count": 39,
   "id": "5c2b857a",
   "metadata": {},
   "outputs": [],
   "source": [
    "l=[1,2,3,4,5]"
   ]
  },
  {
   "cell_type": "code",
   "execution_count": 40,
   "id": "7b158842",
   "metadata": {},
   "outputs": [
    {
     "data": {
      "text/plain": [
       "'[1, 2, 3, 4, 5]'"
      ]
     },
     "execution_count": 40,
     "metadata": {},
     "output_type": "execute_result"
    }
   ],
   "source": [
    "str(l)"
   ]
  },
  {
   "cell_type": "code",
   "execution_count": 43,
   "id": "84604146",
   "metadata": {},
   "outputs": [
    {
     "data": {
      "text/plain": [
       "[1, 2, 3, 4, 5]"
      ]
     },
     "execution_count": 43,
     "metadata": {},
     "output_type": "execute_result"
    }
   ],
   "source": [
    "list(l)"
   ]
  },
  {
   "cell_type": "code",
   "execution_count": 44,
   "id": "6f55f18e",
   "metadata": {},
   "outputs": [
    {
     "data": {
      "text/plain": [
       "(1, 2, 3, 4, 5)"
      ]
     },
     "execution_count": 44,
     "metadata": {},
     "output_type": "execute_result"
    }
   ],
   "source": [
    "tuple(l)"
   ]
  },
  {
   "cell_type": "code",
   "execution_count": 45,
   "id": "98874a35",
   "metadata": {},
   "outputs": [
    {
     "data": {
      "text/plain": [
       "[1, 2, 3, 4, 5, 6, 7, 8]"
      ]
     },
     "execution_count": 45,
     "metadata": {},
     "output_type": "execute_result"
    }
   ],
   "source": [
    "list(range(1,9))"
   ]
  },
  {
   "cell_type": "code",
   "execution_count": 69,
   "id": "4a63e1a0",
   "metadata": {},
   "outputs": [],
   "source": [
    "def squ(n):\n",
    "    c=[i*i for i in range(n)]\n",
    "    yield c\n",
    "          \n",
    "    "
   ]
  },
  {
   "cell_type": "code",
   "execution_count": 70,
   "id": "d93d03a6",
   "metadata": {},
   "outputs": [
    {
     "name": "stdout",
     "output_type": "stream",
     "text": [
      "[0, 1, 4, 9, 16, 25, 36, 49, 64, 81, 100]\n"
     ]
    }
   ],
   "source": [
    "for i in squ(11):\n",
    "    print(i)"
   ]
  },
  {
   "cell_type": "code",
   "execution_count": 74,
   "id": "2c2175c4",
   "metadata": {},
   "outputs": [
    {
     "name": "stdout",
     "output_type": "stream",
     "text": [
      " Volume in drive C has no label.\n",
      " Volume Serial Number is 08BD-F8A5\n",
      "\n",
      " Directory of C:\\Users\\user\n",
      "\n",
      "06/24/2022  06:24 PM    <DIR>          .\n",
      "06/24/2022  06:24 PM    <DIR>          ..\n",
      "06/23/2022  05:16 PM    <DIR>          .conda\n",
      "05/23/2022  03:15 PM                25 .condarc\n",
      "05/23/2022  03:14 PM    <DIR>          .continuum\n",
      "06/18/2022  04:48 PM    <DIR>          .ipynb_checkpoints\n",
      "05/23/2022  03:35 PM    <DIR>          .ipython\n",
      "05/23/2022  03:20 PM    <DIR>          .jupyter\n",
      "06/12/2022  06:05 PM             1,941 abcd tri.ipynb\n",
      "05/23/2022  02:56 PM    <DIR>          anaconda3\n",
      "05/23/2022  12:03 PM    <DIR>          Desktop\n",
      "05/20/2022  01:27 PM    <DIR>          Documents\n",
      "06/23/2022  12:09 PM    <DIR>          Downloads\n",
      "09/22/2021  02:39 AM    <DIR>          Favorites\n",
      "09/22/2021  02:39 AM    <DIR>          Links\n",
      "09/22/2021  02:39 AM    <DIR>          Music\n",
      "08/05/2021  12:40 PM    <DIR>          OneDrive\n",
      "03/07/2022  01:22 AM    <DIR>          Pictures\n",
      "06/21/2022  07:05 PM    <DIR>          PycharmProjects\n",
      "06/16/2022  04:57 PM             5,251 python triangle.ipynb\n",
      "09/22/2021  02:39 AM    <DIR>          Saved Games\n",
      "09/22/2021  02:39 AM    <DIR>          Searches\n",
      "05/23/2022  03:33 PM                72 Untitled.ipynb\n",
      "05/23/2022  03:53 PM             2,252 Untitled1.ipynb\n",
      "06/03/2022  06:17 PM               589 Untitled10.ipynb\n",
      "06/04/2022  06:36 PM             2,795 Untitled11.ipynb\n",
      "06/07/2022  04:03 PM             1,247 Untitled12.ipynb\n",
      "06/10/2022  05:23 PM             2,393 Untitled13.ipynb\n",
      "06/11/2022  03:21 PM             2,423 Untitled14.ipynb\n",
      "06/12/2022  04:40 PM               589 Untitled15.ipynb\n",
      "06/12/2022  05:41 PM             1,366 Untitled16.ipynb\n",
      "06/24/2022  06:24 PM            11,884 Untitled17.ipynb\n",
      "05/23/2022  06:35 PM             2,759 Untitled2.ipynb\n",
      "05/23/2022  06:46 PM             1,716 Untitled3.ipynb\n",
      "05/26/2022  06:22 PM             1,485 Untitled4.ipynb\n",
      "05/26/2022  06:49 PM             2,103 Untitled5.ipynb\n",
      "05/29/2022  06:54 PM             1,693 Untitled6.ipynb\n",
      "05/30/2022  06:38 PM             2,559 Untitled7.ipynb\n",
      "05/31/2022  03:54 PM             1,032 Untitled8.ipynb\n",
      "06/02/2022  05:58 PM             2,820 Untitled9.ipynb\n",
      "09/25/2021  12:14 PM    <DIR>          Videos\n",
      "              21 File(s)         48,994 bytes\n",
      "              20 Dir(s)  125,148,491,776 bytes free\n"
     ]
    }
   ],
   "source": [
    "ls"
   ]
  },
  {
   "cell_type": "code",
   "execution_count": 81,
   "id": "e804564b",
   "metadata": {},
   "outputs": [],
   "source": [
    "f=open('untitled7.ipynb')"
   ]
  },
  {
   "cell_type": "code",
   "execution_count": 82,
   "id": "315cc5a9",
   "metadata": {},
   "outputs": [
    {
     "data": {
      "text/plain": [
       "False"
      ]
     },
     "execution_count": 82,
     "metadata": {},
     "output_type": "execute_result"
    }
   ],
   "source": [
    "f.closed"
   ]
  },
  {
   "cell_type": "code",
   "execution_count": 84,
   "id": "c8eb4f5f",
   "metadata": {},
   "outputs": [
    {
     "data": {
      "text/plain": [
       "<function TextIOWrapper.close()>"
      ]
     },
     "execution_count": 84,
     "metadata": {},
     "output_type": "execute_result"
    }
   ],
   "source": [
    "f.close"
   ]
  },
  {
   "cell_type": "code",
   "execution_count": 15,
   "id": "dd61bfc3",
   "metadata": {},
   "outputs": [],
   "source": [
    "def fib(n):\n",
    "    a=1\n",
    "    b=1\n",
    "    for i in range(n):\n",
    "        a,b=b,a+b\n",
    "        yield a"
   ]
  },
  {
   "cell_type": "code",
   "execution_count": 22,
   "id": "d1addba9",
   "metadata": {},
   "outputs": [
    {
     "name": "stdout",
     "output_type": "stream",
     "text": [
      "1\n",
      "2\n",
      "3\n",
      "5\n",
      "8\n",
      "13\n",
      "21\n",
      "34\n"
     ]
    }
   ],
   "source": [
    "for i in fib(8):\n",
    "    print(i)"
   ]
  },
  {
   "cell_type": "code",
   "execution_count": 30,
   "id": "3d3c396d",
   "metadata": {},
   "outputs": [],
   "source": [
    "def squ(a):\n",
    "    return a**2"
   ]
  },
  {
   "cell_type": "code",
   "execution_count": 31,
   "id": "599a9300",
   "metadata": {},
   "outputs": [],
   "source": [
    "l=[1,2,3,4,5]"
   ]
  },
  {
   "cell_type": "code",
   "execution_count": 37,
   "id": "c810abb6",
   "metadata": {},
   "outputs": [
    {
     "data": {
      "text/plain": [
       "[1, 4, 9, 16, 25]"
      ]
     },
     "execution_count": 37,
     "metadata": {},
     "output_type": "execute_result"
    }
   ],
   "source": [
    "list(map(squ,l))"
   ]
  },
  {
   "cell_type": "code",
   "execution_count": 43,
   "id": "d602dff9",
   "metadata": {},
   "outputs": [],
   "source": [
    "from functools import reduce"
   ]
  },
  {
   "cell_type": "code",
   "execution_count": 45,
   "id": "9f968ab4",
   "metadata": {},
   "outputs": [
    {
     "data": {
      "text/plain": [
       "15"
      ]
     },
     "execution_count": 45,
     "metadata": {},
     "output_type": "execute_result"
    }
   ],
   "source": [
    "reduce(lambda a , b : a+b,l)"
   ]
  },
  {
   "cell_type": "code",
   "execution_count": 49,
   "id": "05022372",
   "metadata": {},
   "outputs": [
    {
     "data": {
      "text/plain": [
       "[1, 4, 9, 16, 25]"
      ]
     },
     "execution_count": 49,
     "metadata": {},
     "output_type": "execute_result"
    }
   ],
   "source": [
    "list(map(lambda a:squ(a),l))"
   ]
  },
  {
   "cell_type": "code",
   "execution_count": 50,
   "id": "8b76a486",
   "metadata": {},
   "outputs": [
    {
     "data": {
      "text/plain": [
       "[1, 4, 9, 16, 25]"
      ]
     },
     "execution_count": 50,
     "metadata": {},
     "output_type": "execute_result"
    }
   ],
   "source": [
    "list(map(lambda a:a**2,l))"
   ]
  },
  {
   "cell_type": "code",
   "execution_count": 51,
   "id": "255b0f96",
   "metadata": {},
   "outputs": [
    {
     "data": {
      "text/plain": [
       "[2, 4]"
      ]
     },
     "execution_count": 51,
     "metadata": {},
     "output_type": "execute_result"
    }
   ],
   "source": [
    "list(filter(lambda a: a%2==0,l))"
   ]
  },
  {
   "cell_type": "code",
   "execution_count": null,
   "id": "cd30ae7e",
   "metadata": {},
   "outputs": [],
   "source": []
  }
 ],
 "metadata": {
  "kernelspec": {
   "display_name": "Python 3 (ipykernel)",
   "language": "python",
   "name": "python3"
  },
  "language_info": {
   "codemirror_mode": {
    "name": "ipython",
    "version": 3
   },
   "file_extension": ".py",
   "mimetype": "text/x-python",
   "name": "python",
   "nbconvert_exporter": "python",
   "pygments_lexer": "ipython3",
   "version": "3.9.12"
  }
 },
 "nbformat": 4,
 "nbformat_minor": 5
}
